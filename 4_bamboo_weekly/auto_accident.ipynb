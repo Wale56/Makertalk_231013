{
 "cells": [
  {
   "cell_type": "markdown",
   "source": [
    "# BW #29: Autounfälle "
   ],
   "metadata": {
    "collapsed": false
   },
   "id": "13dc0eeca04a53f6"
  },
  {
   "cell_type": "markdown",
   "source": [
    "Es scheinen mehr Autos unterwegs zu sein als je zuvor. Aber gibt es auch mehr Autounfälle? Diese Woche untersuchen wir Daten über Unfälle in OECD-Ländern. "
   ],
   "metadata": {
    "collapsed": false
   },
   "id": "3856e0681e9b694d"
  },
  {
   "cell_type": "code",
   "execution_count": 1,
   "outputs": [],
   "source": [
    "# https://www.bambooweekly.com/p/bw-29-auto-accidents"
   ],
   "metadata": {
    "collapsed": false,
    "ExecuteTime": {
     "end_time": "2023-10-13T17:37:21.775718500Z",
     "start_time": "2023-10-13T17:37:21.725719500Z"
    }
   },
   "id": "initial_id"
  },
  {
   "cell_type": "markdown",
   "source": [
    "Diese Woche habe ich Sie gebeten, sich zwei verschiedene Datenquellen anzusehen. Der wichtigste ist der OECD-Bericht über Verkehrsunfälle, eine CSV-Datei, die Sie herunterladen können von:\n",
    "\n",
    "https://stats.oecd.org/sdmx-json/data/DP_LIVE/.ROADACCID.../OECD?contentType=csv&detail=code&separator=comma&csv-lang=en\n",
    "\n",
    "Außerdem nutzen wir auch die Wikipedia-Seite, die dreibuchstabige ISO-Ländercodes in Ländernamen übersetzt:\n",
    "\n",
    "https://en.wikipedia.org/wiki/List_of_ISO_3166_country_codes\n",
    "\n",
    "Hier sind meine neun Fragen und Aufgaben für diese Woche. Zu den Lernzielen gehören das Auswählen von Zeilen und Spalten mit .loc, das Berechnen prozentualer Unterschiede, das Plotten mit ausgewählten Teilen der Daten, das Erstellen von Datenrahmen aus HTML-Seiten und das Zusammenfügen von:\n",
    "\n",
    "    Laden Sie die Daten von OECD in einen Datenrahmen. Wir werden uns die Spalten mit den Namen „INDICATOR“, „FREQUENCY“ oder „Flag Codes“ nicht ansehen.\n",
    "\n",
    "    Für welches Jahr liegen uns aktuell Daten vor? Gibt es Länder, für die die neuesten Daten nicht aus diesem Jahr stammen? "
   ],
   "metadata": {
    "collapsed": false
   },
   "id": "1ab4b278b208e31b"
  },
  {
   "cell_type": "code",
   "execution_count": 2,
   "outputs": [],
   "source": [
    "import pandas as pd\n",
    "import matplotlib.pyplot as plt"
   ],
   "metadata": {
    "collapsed": false,
    "ExecuteTime": {
     "end_time": "2023-10-13T17:37:35.726782700Z",
     "start_time": "2023-10-13T17:37:29.687950800Z"
    }
   },
   "id": "10a8f862d459339d"
  },
  {
   "cell_type": "code",
   "execution_count": 3,
   "outputs": [],
   "source": [
    "df = pd.read_csv('DP_LIVE_27092023205500242.csv', sep=',')"
   ],
   "metadata": {
    "collapsed": false,
    "ExecuteTime": {
     "end_time": "2023-10-13T17:37:41.848459100Z",
     "start_time": "2023-10-13T17:37:41.689457800Z"
    }
   },
   "id": "af9b1a8dfe5fb339"
  },
  {
   "cell_type": "code",
   "execution_count": 4,
   "outputs": [
    {
     "data": {
      "text/plain": "  LOCATION  INDICATOR SUBJECT MEASURE FREQUENCY  TIME  Value Flag Codes\n0      SVN  ROADACCID   DEATH     NBR         A  1970  620.0        NaN\n1      SVN  ROADACCID   DEATH     NBR         A  1971  644.0        NaN\n2      SVN  ROADACCID   DEATH     NBR         A  1972  625.0        NaN\n3      SVN  ROADACCID   DEATH     NBR         A  1973  701.0        NaN\n4      SVN  ROADACCID   DEATH     NBR         A  1974  557.0        NaN",
      "text/html": "<div>\n<style scoped>\n    .dataframe tbody tr th:only-of-type {\n        vertical-align: middle;\n    }\n\n    .dataframe tbody tr th {\n        vertical-align: top;\n    }\n\n    .dataframe thead th {\n        text-align: right;\n    }\n</style>\n<table border=\"1\" class=\"dataframe\">\n  <thead>\n    <tr style=\"text-align: right;\">\n      <th></th>\n      <th>LOCATION</th>\n      <th>INDICATOR</th>\n      <th>SUBJECT</th>\n      <th>MEASURE</th>\n      <th>FREQUENCY</th>\n      <th>TIME</th>\n      <th>Value</th>\n      <th>Flag Codes</th>\n    </tr>\n  </thead>\n  <tbody>\n    <tr>\n      <th>0</th>\n      <td>SVN</td>\n      <td>ROADACCID</td>\n      <td>DEATH</td>\n      <td>NBR</td>\n      <td>A</td>\n      <td>1970</td>\n      <td>620.0</td>\n      <td>NaN</td>\n    </tr>\n    <tr>\n      <th>1</th>\n      <td>SVN</td>\n      <td>ROADACCID</td>\n      <td>DEATH</td>\n      <td>NBR</td>\n      <td>A</td>\n      <td>1971</td>\n      <td>644.0</td>\n      <td>NaN</td>\n    </tr>\n    <tr>\n      <th>2</th>\n      <td>SVN</td>\n      <td>ROADACCID</td>\n      <td>DEATH</td>\n      <td>NBR</td>\n      <td>A</td>\n      <td>1972</td>\n      <td>625.0</td>\n      <td>NaN</td>\n    </tr>\n    <tr>\n      <th>3</th>\n      <td>SVN</td>\n      <td>ROADACCID</td>\n      <td>DEATH</td>\n      <td>NBR</td>\n      <td>A</td>\n      <td>1973</td>\n      <td>701.0</td>\n      <td>NaN</td>\n    </tr>\n    <tr>\n      <th>4</th>\n      <td>SVN</td>\n      <td>ROADACCID</td>\n      <td>DEATH</td>\n      <td>NBR</td>\n      <td>A</td>\n      <td>1974</td>\n      <td>557.0</td>\n      <td>NaN</td>\n    </tr>\n  </tbody>\n</table>\n</div>"
     },
     "execution_count": 4,
     "metadata": {},
     "output_type": "execute_result"
    }
   ],
   "source": [
    "df.head()"
   ],
   "metadata": {
    "collapsed": false,
    "ExecuteTime": {
     "end_time": "2023-10-13T17:37:43.705459Z",
     "start_time": "2023-10-13T17:37:43.542457500Z"
    }
   },
   "id": "436e0b64421c149c"
  },
  {
   "cell_type": "code",
   "execution_count": 5,
   "outputs": [],
   "source": [
    "# Es werden nicht alle Spalten benötigt\n",
    "# df.drop(\"INDICATOR\", \"FREQUENCY\", \"Flag Codes\")\n",
    "df.drop([\"INDICATOR\", \"FREQUENCY\", \"Flag Codes\"], axis=1, inplace=True)"
   ],
   "metadata": {
    "collapsed": false,
    "ExecuteTime": {
     "end_time": "2023-10-13T17:38:01.470244800Z",
     "start_time": "2023-10-13T17:38:01.400248800Z"
    }
   },
   "id": "6514d3f108e1bd0d"
  },
  {
   "cell_type": "code",
   "execution_count": 6,
   "outputs": [
    {
     "data": {
      "text/plain": "  LOCATION SUBJECT MEASURE  TIME  Value\n0      SVN   DEATH     NBR  1970  620.0\n1      SVN   DEATH     NBR  1971  644.0\n2      SVN   DEATH     NBR  1972  625.0\n3      SVN   DEATH     NBR  1973  701.0\n4      SVN   DEATH     NBR  1974  557.0",
      "text/html": "<div>\n<style scoped>\n    .dataframe tbody tr th:only-of-type {\n        vertical-align: middle;\n    }\n\n    .dataframe tbody tr th {\n        vertical-align: top;\n    }\n\n    .dataframe thead th {\n        text-align: right;\n    }\n</style>\n<table border=\"1\" class=\"dataframe\">\n  <thead>\n    <tr style=\"text-align: right;\">\n      <th></th>\n      <th>LOCATION</th>\n      <th>SUBJECT</th>\n      <th>MEASURE</th>\n      <th>TIME</th>\n      <th>Value</th>\n    </tr>\n  </thead>\n  <tbody>\n    <tr>\n      <th>0</th>\n      <td>SVN</td>\n      <td>DEATH</td>\n      <td>NBR</td>\n      <td>1970</td>\n      <td>620.0</td>\n    </tr>\n    <tr>\n      <th>1</th>\n      <td>SVN</td>\n      <td>DEATH</td>\n      <td>NBR</td>\n      <td>1971</td>\n      <td>644.0</td>\n    </tr>\n    <tr>\n      <th>2</th>\n      <td>SVN</td>\n      <td>DEATH</td>\n      <td>NBR</td>\n      <td>1972</td>\n      <td>625.0</td>\n    </tr>\n    <tr>\n      <th>3</th>\n      <td>SVN</td>\n      <td>DEATH</td>\n      <td>NBR</td>\n      <td>1973</td>\n      <td>701.0</td>\n    </tr>\n    <tr>\n      <th>4</th>\n      <td>SVN</td>\n      <td>DEATH</td>\n      <td>NBR</td>\n      <td>1974</td>\n      <td>557.0</td>\n    </tr>\n  </tbody>\n</table>\n</div>"
     },
     "execution_count": 6,
     "metadata": {},
     "output_type": "execute_result"
    }
   ],
   "source": [
    "df.head()"
   ],
   "metadata": {
    "collapsed": false,
    "ExecuteTime": {
     "end_time": "2023-10-13T17:38:03.027402100Z",
     "start_time": "2023-10-13T17:38:02.945402900Z"
    }
   },
   "id": "7cb2be67e570d6c6"
  },
  {
   "cell_type": "code",
   "execution_count": 7,
   "outputs": [
    {
     "data": {
      "text/plain": "2021"
     },
     "execution_count": 7,
     "metadata": {},
     "output_type": "execute_result"
    }
   ],
   "source": [
    "# Bis zu welchem Jahr liegen Daten vor?\n",
    "df['TIME'].max()"
   ],
   "metadata": {
    "collapsed": false,
    "ExecuteTime": {
     "end_time": "2023-10-13T17:38:06.680399400Z",
     "start_time": "2023-10-13T17:38:06.601403700Z"
    }
   },
   "id": "c1d3fdcdf8726c85"
  },
  {
   "cell_type": "code",
   "execution_count": 8,
   "outputs": [
    {
     "data": {
      "text/plain": "LOCATION     object\nSUBJECT      object\nMEASURE      object\nTIME          int64\nValue       float64\ndtype: object"
     },
     "execution_count": 8,
     "metadata": {},
     "output_type": "execute_result"
    }
   ],
   "source": [
    "# -> Wie kann ich die Datentypen von df ermitteln?\n",
    "df.dtypes"
   ],
   "metadata": {
    "collapsed": false,
    "ExecuteTime": {
     "end_time": "2023-10-13T17:38:20.210026800Z",
     "start_time": "2023-10-13T17:38:20.098030200Z"
    }
   },
   "id": "aa9cc6e2cd53a065"
  },
  {
   "cell_type": "code",
   "execution_count": 9,
   "outputs": [
    {
     "data": {
      "text/plain": "LOCATION\nARG    2017\nARM    2017\nBIH    2020\nBLR    2020\nCHN    2019\nIND    2017\nKAZ    2020\nKHM    2016\nMAR    2018\nMEX    2020\nMNE    2017\nROU    2019\nRUS    2020\nUKR    2017\nUZB    2020\nName: TIME, dtype: int64"
     },
     "execution_count": 9,
     "metadata": {},
     "output_type": "execute_result"
    }
   ],
   "source": [
    "# -> Wie kann ich bestimmen, welche 'LOCATION' keine Daten TIME von 2021 hat? Time ist ein Integer. Die Ausgabe soll 'LOCATION' und 'TIME' enthalten\n",
    "# -> Keine brauchbare Lösung mit CodeGPT!!\n",
    "df.groupby('LOCATION')['TIME'].max().loc[\n",
    "    df.groupby('LOCATION')['TIME'].max() < df['TIME'].max()\n",
    "]"
   ],
   "metadata": {
    "collapsed": false,
    "ExecuteTime": {
     "end_time": "2023-10-13T17:38:33.597285300Z",
     "start_time": "2023-10-13T17:38:33.486288700Z"
    }
   },
   "id": "4d3edd7c62f58a06"
  },
  {
   "cell_type": "code",
   "execution_count": 10,
   "outputs": [
    {
     "data": {
      "text/plain": "      ISO 3166[1]                           Unnamed: 1_level_0  \\\n  Country name[5]                    Official state name[6][a]   \n0     Afghanistan          The Islamic Republic of Afghanistan   \n1   Åland Islands                                        Åland   \n2         Albania                      The Republic of Albania   \n3         Algeria  The People's Democratic Republic of Algeria   \n4  American Samoa              The Territory of American Samoa   \n\n    Unnamed: 2_level_0   ISO 3166-1[2]                                  \\\n  Sovereignty[6][7][8] Alpha-2 code[5] Alpha-3 code[5] Numeric code[5]   \n0      UN member state              AF             AFG             004   \n1              Finland              AX             ALA             248   \n2      UN member state              AL             ALB             008   \n3      UN member state              DZ             DZA             012   \n4        United States              AS             ASM             016   \n\n              ISO 3166-2[3] Unnamed: 7_level_0  \n  Subdivision code links[3]  Internet ccTLD[9]  \n0             ISO 3166-2:AF                .af  \n1             ISO 3166-2:AX                .ax  \n2             ISO 3166-2:AL                .al  \n3             ISO 3166-2:DZ                .dz  \n4             ISO 3166-2:AS                .as  ",
      "text/html": "<div>\n<style scoped>\n    .dataframe tbody tr th:only-of-type {\n        vertical-align: middle;\n    }\n\n    .dataframe tbody tr th {\n        vertical-align: top;\n    }\n\n    .dataframe thead tr th {\n        text-align: left;\n    }\n</style>\n<table border=\"1\" class=\"dataframe\">\n  <thead>\n    <tr>\n      <th></th>\n      <th>ISO 3166[1]</th>\n      <th>Unnamed: 1_level_0</th>\n      <th>Unnamed: 2_level_0</th>\n      <th colspan=\"3\" halign=\"left\">ISO 3166-1[2]</th>\n      <th>ISO 3166-2[3]</th>\n      <th>Unnamed: 7_level_0</th>\n    </tr>\n    <tr>\n      <th></th>\n      <th>Country name[5]</th>\n      <th>Official state name[6][a]</th>\n      <th>Sovereignty[6][7][8]</th>\n      <th>Alpha-2 code[5]</th>\n      <th>Alpha-3 code[5]</th>\n      <th>Numeric code[5]</th>\n      <th>Subdivision code links[3]</th>\n      <th>Internet ccTLD[9]</th>\n    </tr>\n  </thead>\n  <tbody>\n    <tr>\n      <th>0</th>\n      <td>Afghanistan</td>\n      <td>The Islamic Republic of Afghanistan</td>\n      <td>UN member state</td>\n      <td>AF</td>\n      <td>AFG</td>\n      <td>004</td>\n      <td>ISO 3166-2:AF</td>\n      <td>.af</td>\n    </tr>\n    <tr>\n      <th>1</th>\n      <td>Åland Islands</td>\n      <td>Åland</td>\n      <td>Finland</td>\n      <td>AX</td>\n      <td>ALA</td>\n      <td>248</td>\n      <td>ISO 3166-2:AX</td>\n      <td>.ax</td>\n    </tr>\n    <tr>\n      <th>2</th>\n      <td>Albania</td>\n      <td>The Republic of Albania</td>\n      <td>UN member state</td>\n      <td>AL</td>\n      <td>ALB</td>\n      <td>008</td>\n      <td>ISO 3166-2:AL</td>\n      <td>.al</td>\n    </tr>\n    <tr>\n      <th>3</th>\n      <td>Algeria</td>\n      <td>The People's Democratic Republic of Algeria</td>\n      <td>UN member state</td>\n      <td>DZ</td>\n      <td>DZA</td>\n      <td>012</td>\n      <td>ISO 3166-2:DZ</td>\n      <td>.dz</td>\n    </tr>\n    <tr>\n      <th>4</th>\n      <td>American Samoa</td>\n      <td>The Territory of American Samoa</td>\n      <td>United States</td>\n      <td>AS</td>\n      <td>ASM</td>\n      <td>016</td>\n      <td>ISO 3166-2:AS</td>\n      <td>.as</td>\n    </tr>\n  </tbody>\n</table>\n</div>"
     },
     "execution_count": 10,
     "metadata": {},
     "output_type": "execute_result"
    }
   ],
   "source": [
    "# Tabelle mit den Ländercodes einlesen\n",
    "country_df = pd.read_html('https://en.wikipedia.org/wiki/List_of_ISO_3166_country_codes')[0]\n",
    "country_df.head()\n"
   ],
   "metadata": {
    "collapsed": false,
    "ExecuteTime": {
     "end_time": "2023-10-13T17:38:40.060817400Z",
     "start_time": "2023-10-13T17:38:39.471816900Z"
    }
   },
   "id": "dec89fe90aefc067"
  },
  {
   "cell_type": "code",
   "execution_count": 11,
   "outputs": [
    {
     "data": {
      "text/plain": "      ISO 3166[1]   ISO 3166-1[2]\n  Country name[5] Alpha-3 code[5]\n0     Afghanistan             AFG\n1   Åland Islands             ALA\n2         Albania             ALB\n3         Algeria             DZA\n4  American Samoa             ASM",
      "text/html": "<div>\n<style scoped>\n    .dataframe tbody tr th:only-of-type {\n        vertical-align: middle;\n    }\n\n    .dataframe tbody tr th {\n        vertical-align: top;\n    }\n\n    .dataframe thead tr th {\n        text-align: left;\n    }\n</style>\n<table border=\"1\" class=\"dataframe\">\n  <thead>\n    <tr>\n      <th></th>\n      <th>ISO 3166[1]</th>\n      <th>ISO 3166-1[2]</th>\n    </tr>\n    <tr>\n      <th></th>\n      <th>Country name[5]</th>\n      <th>Alpha-3 code[5]</th>\n    </tr>\n  </thead>\n  <tbody>\n    <tr>\n      <th>0</th>\n      <td>Afghanistan</td>\n      <td>AFG</td>\n    </tr>\n    <tr>\n      <th>1</th>\n      <td>Åland Islands</td>\n      <td>ALA</td>\n    </tr>\n    <tr>\n      <th>2</th>\n      <td>Albania</td>\n      <td>ALB</td>\n    </tr>\n    <tr>\n      <th>3</th>\n      <td>Algeria</td>\n      <td>DZA</td>\n    </tr>\n    <tr>\n      <th>4</th>\n      <td>American Samoa</td>\n      <td>ASM</td>\n    </tr>\n  </tbody>\n</table>\n</div>"
     },
     "execution_count": 11,
     "metadata": {},
     "output_type": "execute_result"
    }
   ],
   "source": [
    "# -> Ich möchte von einem df Spalte 0 und 4\n",
    "country_df = country_df[[country_df.columns[0], country_df.columns[4]]]\n",
    "country_df.head()"
   ],
   "metadata": {
    "collapsed": false,
    "ExecuteTime": {
     "end_time": "2023-10-13T17:38:49.883764500Z",
     "start_time": "2023-10-13T17:38:49.806767600Z"
    }
   },
   "id": "660d366c6316e4b1"
  },
  {
   "cell_type": "code",
   "execution_count": 12,
   "outputs": [],
   "source": [
    "# Ersetze die Spaltennamen\n",
    "# Entferne die zweite Zeile im Spaltennamen\n",
    "# country_df.columns = country_df.columns.str.replace('[.*]', '', regex=True)\n",
    "\n",
    "# Ausgabe des aktualisierten DataFrames\n",
    "# print(df)\n"
   ],
   "metadata": {
    "collapsed": false,
    "ExecuteTime": {
     "end_time": "2023-10-13T17:38:53.454767900Z",
     "start_time": "2023-10-13T17:38:53.401772100Z"
    }
   },
   "id": "14b2d38fab1e0fb7"
  },
  {
   "cell_type": "code",
   "execution_count": 13,
   "outputs": [
    {
     "name": "stdout",
     "output_type": "stream",
     "text": [
      "             ISO 3166[1] ISO 3166-1[2]\n",
      "0            Afghanistan           AFG\n",
      "1          Åland Islands           ALA\n",
      "2                Albania           ALB\n",
      "3                Algeria           DZA\n",
      "4         American Samoa           ASM\n",
      "..                   ...           ...\n",
      "266    Wallis and Futuna           WLF\n",
      "267  Western Sahara [aj]           ESH\n",
      "268                Yemen           YEM\n",
      "269               Zambia           ZMB\n",
      "270             Zimbabwe           ZWE\n",
      "\n",
      "[271 rows x 2 columns]\n"
     ]
    }
   ],
   "source": [
    "# Es scheint, dass der Fehler auftritt, weil dein DataFrame df einen MultiIndex für die Spalten hat. Die str.replace-Methode kann jedoch nur auf einzelne Spalten angewendet werden, nicht auf einen MultiIndex.\n",
    "# Um die zweite Zeile im Spaltennamen eines MultiIndex zu entfernen, kannst du den MultiIndex in einen einfachen Index umwandeln und dann die str.replace-Methode anwenden.\n",
    "\n",
    "# Wandle den MultiIndex in einen einfachen Index um\n",
    "country_df.columns = country_df.columns.get_level_values(0)\n",
    "\n",
    "# Entferne die zweite Zeile im Spaltennamen\n",
    "country_df.columns = country_df.columns.str.replace('[.*]', '', regex=True)\n",
    "\n",
    "# Ausgabe des aktualisierten DataFrames\n",
    "print(country_df)"
   ],
   "metadata": {
    "collapsed": false,
    "ExecuteTime": {
     "end_time": "2023-10-13T17:38:56.284393Z",
     "start_time": "2023-10-13T17:38:56.221390700Z"
    }
   },
   "id": "9778fb7de346b64e"
  },
  {
   "cell_type": "code",
   "execution_count": 14,
   "outputs": [
    {
     "data": {
      "text/plain": "pandas.core.frame.DataFrame"
     },
     "execution_count": 14,
     "metadata": {},
     "output_type": "execute_result"
    }
   ],
   "source": [
    "type(country_df)"
   ],
   "metadata": {
    "collapsed": false,
    "ExecuteTime": {
     "end_time": "2023-10-13T17:38:57.857387300Z",
     "start_time": "2023-10-13T17:38:57.790391900Z"
    }
   },
   "id": "12565d60a0b22964"
  },
  {
   "cell_type": "code",
   "execution_count": 15,
   "outputs": [
    {
     "name": "stdout",
     "output_type": "stream",
     "text": [
      "  Country name SUBJECT MEASURE  TIME  Value\n",
      "0     Slovenia   DEATH     NBR  1970  620.0\n",
      "1     Slovenia   DEATH     NBR  1971  644.0\n",
      "2     Slovenia   DEATH     NBR  1972  625.0\n",
      "3     Slovenia   DEATH     NBR  1973  701.0\n",
      "4     Slovenia   DEATH     NBR  1974  557.0\n"
     ]
    }
   ],
   "source": [
    "# Erstelle ein Mapping zwischen den ISO-Codes und den Ländernamen\n",
    "# mapping = dict(zip(country_df['ISO 3166[1]'], country_df['ISO 3166-1[2]']))\n",
    "# -> Die \n",
    "mapping = dict(zip(country_df['ISO 3166-1[2]'], country_df['ISO 3166[1]']))\n",
    "\n",
    "# Ersetze die Spalte \"LOCATION\" durch \"Country name\"\n",
    "df.rename(columns={'LOCATION': 'Country name'}, inplace=True)\n",
    "\n",
    "# Aktualisiere die Werte in der Spalte \"Country name\" basierend auf dem Mapping\n",
    "df['Country name'] = df['Country name'].map(mapping)\n",
    "\n",
    "# Ausgabe des aktualisierten DataFrames\n",
    "print(df.head())"
   ],
   "metadata": {
    "collapsed": false,
    "ExecuteTime": {
     "end_time": "2023-10-13T17:39:00.616387900Z",
     "start_time": "2023-10-13T17:39:00.529389100Z"
    }
   },
   "id": "eac7b3946ab5be47"
  },
  {
   "cell_type": "markdown",
   "source": [
    "# Welche fünf Länder haben im Zeitraum 2017–2022 im Durchschnitt die höchste Zahl an Verkehrstoten, gemessen pro 1 Mio. Fahrzeuge ? "
   ],
   "metadata": {
    "collapsed": false
   },
   "id": "ab3c3b13a9df10c6"
  },
  {
   "cell_type": "code",
   "execution_count": 16,
   "outputs": [],
   "source": [
    "# df['MEASURE'] == '1000000VEH'"
   ],
   "metadata": {
    "collapsed": false,
    "ExecuteTime": {
     "end_time": "2023-10-13T17:39:03.669237100Z",
     "start_time": "2023-10-13T17:39:03.627240800Z"
    }
   },
   "id": "8dc07dd15cd448bf"
  },
  {
   "cell_type": "code",
   "execution_count": 17,
   "outputs": [],
   "source": [
    "# df['TIME'].isin(range(2017,2023))"
   ],
   "metadata": {
    "collapsed": false,
    "ExecuteTime": {
     "end_time": "2023-10-13T17:39:04.335240700Z",
     "start_time": "2023-10-13T17:39:04.285238900Z"
    }
   },
   "id": "e79c8aafddc0e831"
  },
  {
   "cell_type": "code",
   "execution_count": 18,
   "outputs": [],
   "source": [
    "# df['SUBJECT'] == 'DEATH'"
   ],
   "metadata": {
    "collapsed": false,
    "ExecuteTime": {
     "end_time": "2023-10-13T17:39:04.913239Z",
     "start_time": "2023-10-13T17:39:04.860241500Z"
    }
   },
   "id": "ef7bf2712c4a997d"
  },
  {
   "cell_type": "code",
   "execution_count": 19,
   "outputs": [],
   "source": [
    "# ((df['MEASURE'] == '1000000VEH') &\n",
    "#     (df['TIME'].isin(range(2017,2023))) &\n",
    "#     (df['SUBJECT'] == 'DEATH'))"
   ],
   "metadata": {
    "collapsed": false,
    "ExecuteTime": {
     "end_time": "2023-10-13T17:39:05.743237900Z",
     "start_time": "2023-10-13T17:39:05.620240700Z"
    }
   },
   "id": "4b343a4646ec2af7"
  },
  {
   "cell_type": "code",
   "execution_count": 20,
   "outputs": [],
   "source": [
    "# -> Wie kann ich in dieser Abfrage nur diejenigen Zeilen zurückerhalten, welche 'True' sind?\n",
    "# ((df['MEASURE'] == '1000000VEH') &\n",
    "# (df['TIME'].isin(range(2017,2023))) &\n",
    "# \n",
    "# (df['SUBJECT'] == 'DEATH'))"
   ],
   "metadata": {
    "collapsed": false,
    "ExecuteTime": {
     "end_time": "2023-10-13T17:39:06.871759100Z",
     "start_time": "2023-10-13T17:39:06.797753400Z"
    }
   },
   "id": "7ee511c22416e0f"
  },
  {
   "cell_type": "code",
   "execution_count": 21,
   "outputs": [
    {
     "name": "stdout",
     "output_type": "stream",
     "text": [
      "       Country name SUBJECT     MEASURE  TIME      Value\n",
      "8440  Australia [c]   DEATH  1000000VEH  2017   0.654222\n",
      "8441  Australia [c]   DEATH  1000000VEH  2018   0.594262\n",
      "8442  Australia [c]   DEATH  1000000VEH  2019   0.611002\n",
      "8443  Australia [c]   DEATH  1000000VEH  2020   0.559664\n",
      "8444  Australia [c]   DEATH  1000000VEH  2021   0.553335\n",
      "...             ...     ...         ...   ...        ...\n",
      "9209        Morocco   DEATH  1000000VEH  2017  10.007652\n",
      "9210        Morocco   DEATH  1000000VEH  2018   8.654839\n",
      "9212     Montenegro   DEATH  1000000VEH  2017   2.925606\n",
      "9361  Liechtenstein   DEATH  1000000VEH  2017   0.519009\n",
      "9362  Liechtenstein   DEATH  1000000VEH  2018   0.000000\n",
      "\n",
      "[131 rows x 5 columns]\n"
     ]
    }
   ],
   "source": [
    "\n",
    "# Definiere die Bedingungen\n",
    "conditions = ((df['MEASURE'] == '1000000VEH') &\n",
    "              (df['TIME'].isin(range(2017, 2023))) &\n",
    "              (df['SUBJECT'] == 'DEATH'))\n",
    "\n",
    "# Wähle nur die Zeilen aus, in denen die Bedingungen True sind\n",
    "filtered_df = df.loc[conditions]\n",
    "\n",
    "# Ausgabe des gefilterten DataFrames\n",
    "print(filtered_df)\n"
   ],
   "metadata": {
    "collapsed": false,
    "ExecuteTime": {
     "end_time": "2023-10-13T17:39:09.825281900Z",
     "start_time": "2023-10-13T17:39:09.753281700Z"
    }
   },
   "id": "6a2191982ee07881"
  },
  {
   "cell_type": "code",
   "execution_count": 29,
   "outputs": [],
   "source": [
    "# -> Wir wollen die durchschnittliche Zahl der Verkehrstoten in diesen Jahren pro Land berechnen."
   ],
   "metadata": {
    "collapsed": false,
    "ExecuteTime": {
     "end_time": "2023-10-11T17:59:34.600502700Z",
     "start_time": "2023-10-11T17:59:34.557235400Z"
    }
   },
   "id": "9109cdd1c503f728"
  },
  {
   "cell_type": "code",
   "execution_count": 22,
   "outputs": [
    {
     "name": "stdout",
     "output_type": "stream",
     "text": [
      "Country name\n",
      "Australia [c]                  0.594497\n",
      "Austria                        0.625382\n",
      "Belgium                        0.808885\n",
      "Bosnia and Herzegovina         2.678434\n",
      "Chile                          3.550065\n",
      "Croatia                        1.437073\n",
      "Czechia [j]                    0.748582\n",
      "Denmark                        0.510348\n",
      "Estonia                        0.581684\n",
      "Finland                        0.467753\n",
      "France [m]                     0.641345\n",
      "Germany                        0.531400\n",
      "Hungary                        1.260116\n",
      "Ireland                        0.566020\n",
      "Italy                          0.568544\n",
      "Latvia                         1.612242\n",
      "Liechtenstein                  0.259504\n",
      "Lithuania                      1.041844\n",
      "Luxembourg                     1.016893\n",
      "Malta                          0.427337\n",
      "Montenegro                     2.925606\n",
      "Morocco                        9.331246\n",
      "Netherlands, Kingdom of the    0.566163\n",
      "North Macedonia [t]            2.745658\n",
      "Norway                         0.280166\n",
      "Poland                         0.859675\n",
      "Portugal                       0.765608\n",
      "Romania                        2.353528\n",
      "Spain                          0.472706\n",
      "Sweden                         0.404701\n",
      "Switzerland                    0.352149\n",
      "Name: Value, dtype: float64\n"
     ]
    }
   ],
   "source": [
    "# Gruppiere das DataFrame nach dem Land und berechne den Durchschnitt der Werte\n",
    "average_deaths_per_country = filtered_df.groupby('Country name')['Value'].mean()\n",
    "\n",
    "# Ausgabe des Durchschnitts der Verkehrstoten pro Land\n",
    "print(average_deaths_per_country)\n"
   ],
   "metadata": {
    "collapsed": false,
    "ExecuteTime": {
     "end_time": "2023-10-13T17:40:07.935847800Z",
     "start_time": "2023-10-13T17:40:07.826172700Z"
    }
   },
   "id": "d07b952a7eb2656d"
  },
  {
   "cell_type": "code",
   "execution_count": 23,
   "outputs": [],
   "source": [
    "# -> Wir wollen nur die fünf Länder mit den schlimmsten Verstößen\n",
    "# Achtung: Unklare Formulierung!!!"
   ],
   "metadata": {
    "collapsed": false,
    "ExecuteTime": {
     "end_time": "2023-10-13T17:40:18.760659900Z",
     "start_time": "2023-10-13T17:40:18.690141Z"
    }
   },
   "id": "1fbe8cd3a0b3b59b"
  },
  {
   "cell_type": "code",
   "execution_count": 24,
   "outputs": [
    {
     "name": "stdout",
     "output_type": "stream",
     "text": [
      "Country name\n",
      "Morocco                   18.662491\n",
      "Chile                     17.750325\n",
      "North Macedonia [t]        8.236975\n",
      "Latvia                     8.061209\n",
      "Bosnia and Herzegovina     8.035301\n",
      "Name: Value, dtype: float64\n"
     ]
    }
   ],
   "source": [
    "# Gruppiere das DataFrame nach dem Land und berechne die Summe der Verkehrstoten\n",
    "total_deaths_per_country = filtered_df.groupby('Country name')['Value'].sum()\n",
    "\n",
    "# Wähle die fünf Länder mit den höchsten Verkehrstoten aus\n",
    "top_countries = total_deaths_per_country.nlargest(5)\n",
    "\n",
    "# Ausgabe der Länder mit den höchsten Verkehrstoten\n",
    "print(top_countries)"
   ],
   "metadata": {
    "collapsed": false,
    "ExecuteTime": {
     "end_time": "2023-10-13T17:40:20.144586500Z",
     "start_time": "2023-10-13T17:40:20.073914800Z"
    }
   },
   "id": "dd9a922c123dc45f"
  },
  {
   "cell_type": "code",
   "execution_count": 25,
   "outputs": [],
   "source": [
    "# -> Ich brauche den Mittelwert\n",
    "# Präzisierung bringt das korrekte Ergebnis!"
   ],
   "metadata": {
    "collapsed": false,
    "ExecuteTime": {
     "end_time": "2023-10-13T17:40:29.502340500Z",
     "start_time": "2023-10-13T17:40:29.449326400Z"
    }
   },
   "id": "a5d4e1cfbc2567ee"
  },
  {
   "cell_type": "code",
   "execution_count": 26,
   "outputs": [
    {
     "data": {
      "text/plain": "Country name\nMorocco                   9.331246\nChile                     3.550065\nMontenegro                2.925606\nNorth Macedonia [t]       2.745658\nBosnia and Herzegovina    2.678434\nName: Value, dtype: float64"
     },
     "execution_count": 26,
     "metadata": {},
     "output_type": "execute_result"
    }
   ],
   "source": [
    "df.loc[\n",
    "    ((df['MEASURE'] == '1000000VEH') &\n",
    "    (df['TIME'].isin(range(2017,2023))) &\n",
    "    (df['SUBJECT'] == 'DEATH'))\n",
    "].groupby('Country name')['Value'].mean().sort_values(ascending=False).head(5)"
   ],
   "metadata": {
    "collapsed": false,
    "ExecuteTime": {
     "end_time": "2023-10-13T17:40:39.297519900Z",
     "start_time": "2023-10-13T17:40:39.212518700Z"
    }
   },
   "id": "8ed79c2967a5a627"
  },
  {
   "cell_type": "code",
   "execution_count": 27,
   "outputs": [],
   "source": [
    "# Wie schneidet die Schweiz ab?"
   ],
   "metadata": {
    "collapsed": false,
    "ExecuteTime": {
     "end_time": "2023-10-13T17:41:01.333340400Z",
     "start_time": "2023-10-13T17:41:01.304943200Z"
    }
   },
   "id": "ffeea794c63c06f2"
  },
  {
   "cell_type": "code",
   "execution_count": 28,
   "outputs": [
    {
     "name": "stdout",
     "output_type": "stream",
     "text": [
      "0.35214943424645\n"
     ]
    }
   ],
   "source": [
    "# Zugriff auf den Durchschnittswert für die Schweiz\n",
    "switzerland_average = average_deaths_per_country.loc['Switzerland']\n",
    "\n",
    "# Ausgabe des Durchschnittswerts für die Schweiz\n",
    "print(switzerland_average)"
   ],
   "metadata": {
    "collapsed": false,
    "ExecuteTime": {
     "end_time": "2023-10-13T17:41:03.848847800Z",
     "start_time": "2023-10-13T17:41:03.801970600Z"
    }
   },
   "id": "17ab350dcba96de7"
  },
  {
   "cell_type": "code",
   "execution_count": 29,
   "outputs": [],
   "source": [
    "# Welche 5 Länder sind am besten?"
   ],
   "metadata": {
    "collapsed": false,
    "ExecuteTime": {
     "end_time": "2023-10-13T17:41:08.640774800Z",
     "start_time": "2023-10-13T17:41:08.610561400Z"
    }
   },
   "id": "8cc3c931236e0765"
  },
  {
   "cell_type": "code",
   "execution_count": 30,
   "outputs": [
    {
     "name": "stdout",
     "output_type": "stream",
     "text": [
      "Country name\n",
      "Liechtenstein    0.259504\n",
      "Norway           0.280166\n",
      "Switzerland      0.352149\n",
      "Sweden           0.404701\n",
      "Malta            0.427337\n",
      "Name: Value, dtype: float64\n"
     ]
    }
   ],
   "source": [
    "# Wähle die fünf Länder mit den niedrigsten Durchschnittswerten aus\n",
    "top_countries = average_deaths_per_country.nsmallest(5)\n",
    "\n",
    "# Ausgabe der Länder mit den niedrigsten Durchschnittswerten\n",
    "print(top_countries)\n"
   ],
   "metadata": {
    "collapsed": false,
    "ExecuteTime": {
     "end_time": "2023-10-13T17:41:11.776863800Z",
     "start_time": "2023-10-13T17:41:11.654258900Z"
    }
   },
   "id": "30af25b9f938edc"
  },
  {
   "cell_type": "markdown",
   "source": [
    "# In welchen fünf Ländern gab es im Zeitraum 2017–2022 durchschnittlich die meisten Verkehrstoten, gemessen pro 1 Mio. Einwohner ? "
   ],
   "metadata": {
    "collapsed": false
   },
   "id": "6c978a57f864ed8"
  },
  {
   "cell_type": "code",
   "execution_count": 31,
   "outputs": [
    {
     "data": {
      "text/plain": "Country name\nGeorgia                           12.661899\nArgentina                         12.305649\nRussian Federation (the) [w]      12.196730\nUnited States of America (the)    11.660817\nKazakhstan                        11.049232\nName: Value, dtype: float64"
     },
     "execution_count": 31,
     "metadata": {},
     "output_type": "execute_result"
    }
   ],
   "source": [
    "# Hier können die Strukturtemplates von oben verwendet werden!\n",
    "df.loc[\n",
    "    ((df['MEASURE'] == '1000000HAB') &\n",
    "    (df['TIME'].isin(range(2017,2023))) &\n",
    "    (df['SUBJECT'] == 'DEATH'))\n",
    "].groupby('Country name')['Value'].mean().sort_values(ascending=False).head(5)"
   ],
   "metadata": {
    "collapsed": false,
    "ExecuteTime": {
     "end_time": "2023-10-13T17:42:34.858468800Z",
     "start_time": "2023-10-13T17:42:34.727408400Z"
    }
   },
   "id": "bd0eca5a0643b4b"
  },
  {
   "cell_type": "markdown",
   "source": [
    "# --- und wo am wenigsten?"
   ],
   "metadata": {
    "collapsed": false
   },
   "id": "a3ac615fe4c51c11"
  },
  {
   "cell_type": "code",
   "execution_count": 32,
   "outputs": [
    {
     "data": {
      "text/plain": "Country name\nLiechtenstein    1.571765\nNorway           1.853875\nMexico           2.346509\nSweden           2.365263\nSwitzerland      2.512875\nName: Value, dtype: float64"
     },
     "execution_count": 32,
     "metadata": {},
     "output_type": "execute_result"
    }
   ],
   "source": [
    "# Anpassung des Strukturtemplates von oben\n",
    "df.loc[\n",
    "    ((df['MEASURE'] == '1000000HAB') &\n",
    "    (df['TIME'].isin(range(2017,2023))) &\n",
    "    (df['SUBJECT'] == 'DEATH'))\n",
    "].groupby('Country name')['Value'].mean().sort_values(ascending=True).head(5)"
   ],
   "metadata": {
    "collapsed": false,
    "ExecuteTime": {
     "end_time": "2023-10-13T17:42:36.154273200Z",
     "start_time": "2023-10-13T17:42:36.095465900Z"
    }
   },
   "id": "cc48da30fb8b5960"
  },
  {
   "cell_type": "markdown",
   "source": [
    "# In welchen fünf Ländern haben die Verletzungen im Laufe der Jahre prozentual am stärksten zugenommen? In welchen fünf Ländern ist der Prozentsatz am stärksten gesunken? "
   ],
   "metadata": {
    "collapsed": false
   },
   "id": "4793e2be0431609c"
  },
  {
   "cell_type": "code",
   "execution_count": 33,
   "outputs": [],
   "source": [
    "# -> In welchen fünf Ländern haben die Verletzungen im Laufe der Jahre prozentual am stärksten zugenommen?\n",
    "# df.loc[\n",
    "# df['SUBJECT'] == 'INJURE'\n",
    "# ]"
   ],
   "metadata": {
    "collapsed": false,
    "ExecuteTime": {
     "end_time": "2023-10-13T17:42:37.894187300Z",
     "start_time": "2023-10-13T17:42:37.838188900Z"
    }
   },
   "id": "f6723febad23046"
  },
  {
   "cell_type": "code",
   "execution_count": 34,
   "outputs": [
    {
     "name": "stdout",
     "output_type": "stream",
     "text": [
      "Country name\n",
      "Bosnia and Herzegovina    13.330688\n",
      "Romania                   13.259257\n",
      "Albania                    9.469802\n",
      "Armenia                    7.232386\n",
      "Türkiye [ac]               6.170635\n",
      "Name: Percentage Increase, dtype: float64\n"
     ]
    },
    {
     "name": "stderr",
     "output_type": "stream",
     "text": [
      "C:\\Users\\Walter\\AppData\\Local\\Temp\\ipykernel_12888\\3311681616.py:8: SettingWithCopyWarning: \n",
      "A value is trying to be set on a copy of a slice from a DataFrame.\n",
      "Try using .loc[row_indexer,col_indexer] = value instead\n",
      "\n",
      "See the caveats in the documentation: https://pandas.pydata.org/pandas-docs/stable/user_guide/indexing.html#returning-a-view-versus-a-copy\n",
      "  filtered_df['Percentage Increase'] = percentage_increase\n"
     ]
    }
   ],
   "source": [
    "# Filtere das DataFrame basierend auf dem 'SUBJECT' \"INJURE\"\n",
    "filtered_df = df.loc[df['SUBJECT'] == 'INJURE']\n",
    "\n",
    "# Gruppiere das DataFrame nach dem Land und berechne den prozentualen Anstieg der Verletzungen über die Jahre\n",
    "percentage_increase = filtered_df.groupby('Country name')['Value'].pct_change()\n",
    "\n",
    "# Füge den prozentualen Anstieg als neue Spalte zum DataFrame hinzu\n",
    "filtered_df['Percentage Increase'] = percentage_increase\n",
    "\n",
    "# Gruppiere das DataFrame erneut nach dem Land und berechne den durchschnittlichen prozentualen Anstieg\n",
    "average_percentage_increase = filtered_df.groupby('Country name')['Percentage Increase'].mean() * 100\n",
    "\n",
    "# Wähle die fünf Länder mit dem höchsten durchschnittlichen prozentualen Anstieg aus\n",
    "top_countries = average_percentage_increase.nlargest(5)\n",
    "\n",
    "# Ausgabe der Länder mit dem höchsten prozentualen Anstieg\n",
    "print(top_countries)"
   ],
   "metadata": {
    "collapsed": false,
    "ExecuteTime": {
     "end_time": "2023-10-13T17:42:38.676981800Z",
     "start_time": "2023-10-13T17:42:38.591981Z"
    }
   },
   "id": "34bb9ab3279c753f"
  },
  {
   "cell_type": "code",
   "execution_count": 35,
   "outputs": [],
   "source": [
    "# -> Gegenteil von nlargest?"
   ],
   "metadata": {
    "collapsed": false,
    "ExecuteTime": {
     "end_time": "2023-10-13T17:42:39.607979700Z",
     "start_time": "2023-10-13T17:42:39.568981600Z"
    }
   },
   "id": "8983d9ba4796cad6"
  },
  {
   "cell_type": "code",
   "execution_count": 36,
   "outputs": [
    {
     "name": "stdout",
     "output_type": "stream",
     "text": [
      "Country name\n",
      "Netherlands, Kingdom of the   -4.351504\n",
      "Denmark                       -4.028832\n",
      "China                         -3.642433\n",
      "France [m]                    -2.885770\n",
      "Belarus                       -2.781796\n",
      "Name: Percentage Increase, dtype: float64\n"
     ]
    }
   ],
   "source": [
    "# Wähle die fünf Länder mit dem kleinsten durchschnittlichen prozentualen Anstieg aus\n",
    "bottom_countries = average_percentage_increase.nsmallest(5)\n",
    "\n",
    "# Ausgabe der Länder mit dem kleinsten prozentualen Anstieg\n",
    "print(bottom_countries)"
   ],
   "metadata": {
    "collapsed": false,
    "ExecuteTime": {
     "end_time": "2023-10-13T17:42:40.507626600Z",
     "start_time": "2023-10-13T17:42:40.448629400Z"
    }
   },
   "id": "d19deba68aea5711"
  },
  {
   "cell_type": "code",
   "execution_count": 37,
   "outputs": [
    {
     "data": {
      "text/plain": "-1.0218224602743855"
     },
     "execution_count": 37,
     "metadata": {},
     "output_type": "execute_result"
    }
   ],
   "source": [
    "average_percentage_increase.loc['Switzerland']"
   ],
   "metadata": {
    "collapsed": false,
    "ExecuteTime": {
     "end_time": "2023-10-13T17:42:41.466224Z",
     "start_time": "2023-10-13T17:42:41.424225500Z"
    }
   },
   "id": "d71942c0dbd5321c"
  },
  {
   "cell_type": "markdown",
   "source": [
    "# Finden Sie das Jahr, in dem jedes Land den größten Anstieg der Verkehrstoten pro 1 Mio. Einwohner verzeichnete. Was ist mit dem Jahr, in dem jedes Land den stärksten Rückgang verzeichnete? Hängen diese Zahlen zusammen? "
   ],
   "metadata": {
    "collapsed": false
   },
   "id": "1ce7b3f58725b4b4"
  },
  {
   "cell_type": "code",
   "execution_count": 38,
   "outputs": [
    {
     "name": "stderr",
     "output_type": "stream",
     "text": [
      "C:\\Users\\Walter\\AppData\\Local\\Temp\\ipykernel_12888\\3216661520.py:3: FutureWarning: The default fill_method='pad' in DataFrame.pct_change is deprecated and will be removed in a future version. Call ffill before calling pct_change to retain current behavior and silence this warning.\n",
      "  filtered_df = df.loc[\n"
     ]
    }
   ],
   "source": [
    "# Filtere das DataFrame basierend auf dem 'SUBJECT' \"DEATHRATE\"\n",
    "# Keine Lösung mit CodeGPT\n",
    "filtered_df = df.loc[\n",
    "    ((df['MEASURE'] == '1000000HAB') &\n",
    "    (df['SUBJECT'] == 'DEATH'))\n",
    "].pivot_table(index='TIME', columns='Country name', values='Value').pct_change().idxmax().value_counts().head()"
   ],
   "metadata": {
    "collapsed": false,
    "ExecuteTime": {
     "end_time": "2023-10-13T17:42:43.397558900Z",
     "start_time": "2023-10-13T17:42:43.273560600Z"
    }
   },
   "id": "e777b720aa9c2b34"
  },
  {
   "cell_type": "code",
   "execution_count": 39,
   "outputs": [
    {
     "data": {
      "text/plain": "2021    12\n2007     7\n1998     4\n2018     3\n2013     3\nName: count, dtype: int64"
     },
     "execution_count": 39,
     "metadata": {},
     "output_type": "execute_result"
    }
   ],
   "source": [
    "filtered_df"
   ],
   "metadata": {
    "collapsed": false,
    "ExecuteTime": {
     "end_time": "2023-10-13T17:42:44.387753500Z",
     "start_time": "2023-10-13T17:42:44.215752500Z"
    }
   },
   "id": "224c3f0ceb444b55"
  },
  {
   "cell_type": "markdown",
   "source": [
    "# Erstellen Sie ein Liniendiagramm, das die Anzahl der autobedingten Todesfälle pro Jahr, gemessen pro 1 Million Einwohner, für die folgenden Länder zeigt: USA, Frankreich, Deutschland, Kanada, Großbritannien, Australien, Italien, Portugal und Israel. Haben sie alle in den letzten ein bis zwei Jahrzehnten die Zahl der Verkehrstoten verringert? Gibt es Länder, denen es besonders schlechter geht als den anderen?\n"
   ],
   "metadata": {
    "collapsed": false
   },
   "id": "4a6d49781b7660e4"
  },
  {
   "cell_type": "code",
   "execution_count": 40,
   "outputs": [
    {
     "data": {
      "text/plain": "<Axes: xlabel='TIME'>"
     },
     "execution_count": 40,
     "metadata": {},
     "output_type": "execute_result"
    },
    {
     "data": {
      "text/plain": "<Figure size 640x480 with 1 Axes>",
      "image/png": "[encoded data removed]"
     },
     "metadata": {},
     "output_type": "display_data"
    }
   ],
   "source": [
    "# Durch CodeGPT erzeugt\n",
    "df.loc[\n",
    "    ((df['MEASURE'] == '1000000HAB') &\n",
    "    (df['SUBJECT'] == 'DEATH'))\n",
    "].pivot_table(index='TIME', columns='Country name', values='Value')[['United States of America (the)', 'Austria', 'Germany', 'Switzerland', 'Croatia',                                                                 'Morocco', 'Italy', 'Poland', 'Israel'\n",
    "]].plot.line()"
   ],
   "metadata": {
    "collapsed": false,
    "ExecuteTime": {
     "end_time": "2023-10-13T17:42:46.467623300Z",
     "start_time": "2023-10-13T17:42:45.808255700Z"
    }
   },
   "id": "7d9d6b6db5462b55"
  },
  {
   "cell_type": "code",
   "execution_count": 41,
   "outputs": [
    {
     "data": {
      "text/plain": "<Axes: xlabel='TIME'>"
     },
     "execution_count": 41,
     "metadata": {},
     "output_type": "execute_result"
    },
    {
     "data": {
      "text/plain": "<Figure size 640x480 with 1 Axes>",
      "image/png": "[encoded data removed]"
     },
     "metadata": {},
     "output_type": "display_data"
    }
   ],
   "source": [
    "# Aus Template oben abgeleitet\n",
    "df.loc[\n",
    "    ((df['MEASURE'] == '1000000HAB') &\n",
    "    (df['SUBJECT'] == 'DEATH'))\n",
    "].pivot_table(index='TIME', columns='Country name', values='Value')[['United States of America (the)'\n",
    "]].plot.line()"
   ],
   "metadata": {
    "collapsed": false,
    "ExecuteTime": {
     "end_time": "2023-10-13T17:42:47.146591900Z",
     "start_time": "2023-10-13T17:42:46.770588100Z"
    }
   },
   "id": "2912118e06cbe69b"
  },
  {
   "cell_type": "code",
   "execution_count": 45,
   "outputs": [
    {
     "data": {
      "text/plain": "<Axes: xlabel='TIME'>"
     },
     "execution_count": 45,
     "metadata": {},
     "output_type": "execute_result"
    },
    {
     "data": {
      "text/plain": "<Figure size 640x480 with 1 Axes>",
      "image/png": "[encoded data removed]"
     },
     "metadata": {},
     "output_type": "display_data"
    }
   ],
   "source": [
    "# Nur Daten bis 2017!!\n",
    "df.loc[\n",
    "    ((df['MEASURE'] == '1000000HAB') &\n",
    "    (df['SUBJECT'] == 'DEATH'))\n",
    "].pivot_table(index='TIME', columns='Country name', values='Value')[['Morocco'\n",
    "]].plot.line()"
   ],
   "metadata": {
    "collapsed": false,
    "ExecuteTime": {
     "end_time": "2023-10-11T20:09:13.677962700Z",
     "start_time": "2023-10-11T20:09:12.265884600Z"
    }
   },
   "id": "a352e3b9747f313d"
  },
  {
   "cell_type": "code",
   "execution_count": 45,
   "outputs": [
    {
     "data": {
      "text/plain": "<Axes: xlabel='TIME'>"
     },
     "execution_count": 45,
     "metadata": {},
     "output_type": "execute_result"
    },
    {
     "data": {
      "text/plain": "<Figure size 640x480 with 1 Axes>",
      "image/png": "[encoded data removed]"
     },
     "metadata": {},
     "output_type": "display_data"
    }
   ],
   "source": [
    "df.loc[\n",
    "    ((df['MEASURE'] == '1000000HAB') &\n",
    "    (df['SUBJECT'] == 'DEATH'))\n",
    "].pivot_table(index='TIME', columns='Country name', values='Value')[['Switzerland'\n",
    "]].plot.line()"
   ],
   "metadata": {
    "collapsed": false,
    "ExecuteTime": {
     "end_time": "2023-10-09T20:35:23.966078700Z",
     "start_time": "2023-10-09T20:35:23.607190300Z"
    }
   },
   "id": "f73f813d3ff506cc"
  },
  {
   "cell_type": "code",
   "execution_count": null,
   "outputs": [],
   "source": [],
   "metadata": {
    "collapsed": false
   },
   "id": "9c46167dc96d0bb2"
  }
 ],
 "metadata": {
  "kernelspec": {
   "display_name": "Python 3",
   "language": "python",
   "name": "python3"
  },
  "language_info": {
   "codemirror_mode": {
    "name": "ipython",
    "version": 2
   },
   "file_extension": ".py",
   "mimetype": "text/x-python",
   "name": "python",
   "nbconvert_exporter": "python",
   "pygments_lexer": "ipython2",
   "version": "2.7.6"
  }
 },
 "nbformat": 4,
 "nbformat_minor": 5
}
